{
  "nbformat": 4,
  "nbformat_minor": 0,
  "metadata": {
    "colab": {
      "name": "M1공부_01.ipynb",
      "provenance": [],
      "collapsed_sections": [],
      "authorship_tag": "ABX9TyPlpvUPPPdiX2fmdWxWvhy1",
      "include_colab_link": true
    },
    "kernelspec": {
      "name": "python3",
      "display_name": "Python 3"
    }
  },
  "cells": [
    {
      "cell_type": "markdown",
      "metadata": {
        "id": "view-in-github",
        "colab_type": "text"
      },
      "source": [
        "<a href=\"https://colab.research.google.com/github/Truman7777/M1/blob/main/M1%EA%B3%B5%EB%B6%80_01.ipynb\" target=\"_parent\"><img src=\"https://colab.research.google.com/assets/colab-badge.svg\" alt=\"Open In Colab\"/></a>"
      ]
    },
    {
      "cell_type": "markdown",
      "metadata": {
        "id": "hestPW1oVgIK"
      },
      "source": [
        "#**기본 변수**"
      ]
    },
    {
      "cell_type": "code",
      "metadata": {
        "colab": {
          "base_uri": "https://localhost:8080/"
        },
        "id": "ULHK0nKLVUTW",
        "outputId": "90b70bb6-9388-49b1-eb38-3a66c992b3a1"
      },
      "source": [
        "# 정수, 소수, 문자열, 논리값\r\n",
        "\r\n",
        "a = 3\r\n",
        "x = 0.5\r\n",
        "y = '선물받는 아이'\r\n",
        "z = True\r\n",
        "print(a, x, y, z)"
      ],
      "execution_count": null,
      "outputs": [
        {
          "output_type": "stream",
          "text": [
            "3 0.5 선물받는 아이 True\n"
          ],
          "name": "stdout"
        }
      ]
    },
    {
      "cell_type": "code",
      "metadata": {
        "colab": {
          "base_uri": "https://localhost:8080/"
        },
        "id": "8IWP69hQV2PE",
        "outputId": "64851d3c-e576-4805-e70e-c20db08a3fde"
      },
      "source": [
        "# 여러 줄로 된 문자열을 표시하는 법(\"\"\" \"\"\")\r\n",
        "\r\n",
        "multi = \"\"\"여러 줄로 된\r\n",
        "문자열\r\n",
        "입니다\"\"\"\r\n",
        "\r\n",
        "print(multi)"
      ],
      "execution_count": null,
      "outputs": [
        {
          "output_type": "stream",
          "text": [
            "여러 줄로 된\n",
            "문자열\n",
            "입니다\n"
          ],
          "name": "stdout"
        }
      ]
    },
    {
      "cell_type": "code",
      "metadata": {
        "colab": {
          "base_uri": "https://localhost:8080/"
        },
        "id": "HSokZbdOWiIf",
        "outputId": "35ba4724-3603-4662-a647-a58385b68740"
      },
      "source": [
        "# 논리값\r\n",
        "\r\n",
        "a = 3\r\n",
        "b = True # True = 1, False = 0\r\n",
        "print(a + b)"
      ],
      "execution_count": null,
      "outputs": [
        {
          "output_type": "stream",
          "text": [
            "4\n"
          ],
          "name": "stdout"
        }
      ]
    },
    {
      "cell_type": "code",
      "metadata": {
        "colab": {
          "base_uri": "https://localhost:8080/"
        },
        "id": "DDMfP8yGW81x",
        "outputId": "34989f92-ebfc-41a4-f330-e53e5a7104d1"
      },
      "source": [
        "# 리스트\r\n",
        "\r\n",
        "list_1 = [x, y, z]\r\n",
        "print(list_1)\r\n",
        "print(len(list_1)) # len() => 리스트 내 갯수 세는 함수"
      ],
      "execution_count": null,
      "outputs": [
        {
          "output_type": "stream",
          "text": [
            "[0.5, '선물받는 아이', True]\n",
            "3\n"
          ],
          "name": "stdout"
        }
      ]
    },
    {
      "cell_type": "code",
      "metadata": {
        "colab": {
          "base_uri": "https://localhost:8080/"
        },
        "id": "WUMhAKstXQXt",
        "outputId": "c26e6a09-2cdf-4815-e648-1aef77f1eb8d"
      },
      "source": [
        "# in (리스트 내에 무엇이 들어있는지 확인할때 사용)\r\n",
        "\r\n",
        "print(3 in list_1)\r\n",
        "print(0.5 in list_1)\r\n",
        "\r\n",
        "list_1.append(100) # .append() => 리스트에 항목 추가하는 함수\r\n",
        "print(list_1)"
      ],
      "execution_count": null,
      "outputs": [
        {
          "output_type": "stream",
          "text": [
            "False\n",
            "True\n",
            "[0.5, '선물받는 아이', True, 100]\n"
          ],
          "name": "stdout"
        }
      ]
    },
    {
      "cell_type": "code",
      "metadata": {
        "colab": {
          "base_uri": "https://localhost:8080/"
        },
        "id": "SP73yLtwX5fv",
        "outputId": "25065992-c06f-4129-c82d-eae128747e6a"
      },
      "source": [
        "# range\r\n",
        "\r\n",
        "x2 = range(10)\r\n",
        "print(list(x2))\r\n",
        "\r\n",
        "x3 = range(10, 20, 2) # 시작점과 끝점, 그리고 간격을 조절\r\n",
        "print(list(x3))\r\n",
        "\r\n",
        "print(x3[0]) # 인덱싱 : 리스트 내 특정 위치의 값을 얻을 때 사용하는 방법\r\n",
        "print(x3[2]) # 처음에서부터 0,1,2로 차례대로 마지막부터 역순은 -1,-2의 순서대로\r\n",
        "print(x3[-1])\r\n",
        "print(x3[-2])"
      ],
      "execution_count": null,
      "outputs": [
        {
          "output_type": "stream",
          "text": [
            "[0, 1, 2, 3, 4, 5, 6, 7, 8, 9]\n",
            "[10, 12, 14, 16, 18]\n",
            "10\n",
            "14\n",
            "18\n",
            "16\n"
          ],
          "name": "stdout"
        }
      ]
    },
    {
      "cell_type": "code",
      "metadata": {
        "colab": {
          "base_uri": "https://localhost:8080/"
        },
        "id": "wp-sgBZvYpLT",
        "outputId": "de6bf721-d0d9-48d2-84f0-83ca8dd0b1ed"
      },
      "source": [
        "# 리스트 내부 for\r\n",
        "\r\n",
        "list_2 = [x*10 for x in range(5)]\r\n",
        "print(list_2)"
      ],
      "execution_count": null,
      "outputs": [
        {
          "output_type": "stream",
          "text": [
            "[0, 10, 20, 30, 40]\n"
          ],
          "name": "stdout"
        }
      ]
    },
    {
      "cell_type": "code",
      "metadata": {
        "colab": {
          "base_uri": "https://localhost:8080/"
        },
        "id": "8qX7QvgeaRga",
        "outputId": "228f84cc-5189-449d-a5a3-03d2c93866b1"
      },
      "source": [
        "# 튜플\r\n",
        "\r\n",
        "t1 = (1, 2, 3)\r\n",
        "t2 = 4, 5, 6\r\n",
        "print(t1)\r\n",
        "print(t2)"
      ],
      "execution_count": null,
      "outputs": [
        {
          "output_type": "stream",
          "text": [
            "(1, 2, 3)\n",
            "(4, 5, 6)\n"
          ],
          "name": "stdout"
        }
      ]
    },
    {
      "cell_type": "code",
      "metadata": {
        "colab": {
          "base_uri": "https://localhost:8080/"
        },
        "id": "otbOt5p9adQ0",
        "outputId": "02a7a8d0-dd05-412b-abbd-122f730a20e4"
      },
      "source": [
        "# 딕셔너리\r\n",
        "\r\n",
        "name_age = {'kim': 20, 'lee': 25}\r\n",
        "print(name_age['kim']) # key를 넣었을때 value 출력\r\n",
        "\r\n",
        "print('kim' in name_age)\r\n",
        "print('park' in name_age)\r\n",
        "print(20 in name_age)\r\n",
        "\r\n",
        "name_age['song'] = 35 # 딕셔너리에 새로운 항목 추가\r\n",
        "print(name_age)\r\n",
        "\r\n",
        "print(name_age.keys()) # key만 출력\r\n",
        "print(name_age.values()) # value만 출력\r\n",
        "\r\n",
        "name_age.items() # 각 항목은 튜플로, 전체는 리스트로 리턴"
      ],
      "execution_count": null,
      "outputs": [
        {
          "output_type": "stream",
          "text": [
            "20\n",
            "True\n",
            "False\n",
            "False\n",
            "{'kim': 20, 'lee': 25, 'song': 35}\n",
            "dict_keys(['kim', 'lee', 'song'])\n",
            "dict_values([20, 25, 35])\n"
          ],
          "name": "stdout"
        },
        {
          "output_type": "execute_result",
          "data": {
            "text/plain": [
              "dict_items([('kim', 20), ('lee', 25), ('song', 35)])"
            ]
          },
          "metadata": {
            "tags": []
          },
          "execution_count": 5
        }
      ]
    },
    {
      "cell_type": "code",
      "metadata": {
        "colab": {
          "base_uri": "https://localhost:8080/"
        },
        "id": "AZFHLpGObBPc",
        "outputId": "06ae98ec-ffc6-45e8-a3e9-81d6482746dc"
      },
      "source": [
        "# if-else (조건문)\r\n",
        "\r\n",
        "x = 3\r\n",
        "\r\n",
        "if x > 10:\r\n",
        "  print('x > 10')\r\n",
        "elif x > 3:\r\n",
        "  print('3 < x =< 10')\r\n",
        "else:\r\n",
        "  print('x =< 3')"
      ],
      "execution_count": null,
      "outputs": [
        {
          "output_type": "stream",
          "text": [
            "x =< 3\n"
          ],
          "name": "stdout"
        }
      ]
    },
    {
      "cell_type": "code",
      "metadata": {
        "colab": {
          "base_uri": "https://localhost:8080/"
        },
        "id": "JnTpg8B0cZ4G",
        "outputId": "9309bb06-64bd-4b9a-c1d2-6cde4ef874d5"
      },
      "source": [
        "# for\r\n",
        "\r\n",
        "for x in (1, 3, 5, 10):\r\n",
        "  print(x, \"'s square = \", x*x)"
      ],
      "execution_count": null,
      "outputs": [
        {
          "output_type": "stream",
          "text": [
            "1 's square =  1\n",
            "3 's square =  9\n",
            "5 's square =  25\n",
            "10 's square =  100\n"
          ],
          "name": "stdout"
        }
      ]
    },
    {
      "cell_type": "code",
      "metadata": {
        "colab": {
          "base_uri": "https://localhost:8080/"
        },
        "id": "jiZPWlQxcyQJ",
        "outputId": "bb254b3f-adbb-4ace-d255-20b34fbea960"
      },
      "source": [
        "# sort()\r\n",
        "\r\n",
        "x = [2, 3, 1, 5, 4]\r\n",
        "x.sort()\r\n",
        "print(x)"
      ],
      "execution_count": null,
      "outputs": [
        {
          "output_type": "stream",
          "text": [
            "[1, 2, 3, 4, 5]\n"
          ],
          "name": "stdout"
        }
      ]
    },
    {
      "cell_type": "code",
      "metadata": {
        "colab": {
          "base_uri": "https://localhost:8080/"
        },
        "id": "BRR71BEUc918",
        "outputId": "39f7b8dc-84b7-4391-b7e9-0db4749bd683"
      },
      "source": [
        "x = [2, 1, 3, 5, 4]\r\n",
        "y = sorted(x)\r\n",
        "print(y)\r\n",
        "print(x)"
      ],
      "execution_count": null,
      "outputs": [
        {
          "output_type": "stream",
          "text": [
            "[1, 2, 3, 4, 5]\n",
            "[2, 1, 3, 5, 4]\n"
          ],
          "name": "stdout"
        }
      ]
    },
    {
      "cell_type": "code",
      "metadata": {
        "colab": {
          "base_uri": "https://localhost:8080/"
        },
        "id": "lQyg1wGSdFfo",
        "outputId": "1138f82c-ae28-4335-e307-b81a164c946c"
      },
      "source": [
        "x = [2, 1, 3, 5, 4]\r\n",
        "x.sort(reverse = True)\r\n",
        "print(x)"
      ],
      "execution_count": null,
      "outputs": [
        {
          "output_type": "stream",
          "text": [
            "[5, 4, 3, 2, 1]\n"
          ],
          "name": "stdout"
        }
      ]
    },
    {
      "cell_type": "code",
      "metadata": {
        "colab": {
          "base_uri": "https://localhost:8080/",
          "height": 142
        },
        "id": "PJYwFPC8dM6n",
        "outputId": "5208f4e8-3c88-4855-c519-fba328b4bd0d"
      },
      "source": [
        "# sort_values()\r\n",
        "\r\n",
        "import pandas as pd\r\n",
        "\r\n",
        "df = pd.DataFrame({'순서': [1, 3, 2], '이름': ['park', 'lee', 'choi'], '나이': [30, 20, 40]})\r\n",
        "df.sort_values(by = ['순서'], ascending = True)"
      ],
      "execution_count": null,
      "outputs": [
        {
          "output_type": "execute_result",
          "data": {
            "text/html": [
              "<div>\n",
              "<style scoped>\n",
              "    .dataframe tbody tr th:only-of-type {\n",
              "        vertical-align: middle;\n",
              "    }\n",
              "\n",
              "    .dataframe tbody tr th {\n",
              "        vertical-align: top;\n",
              "    }\n",
              "\n",
              "    .dataframe thead th {\n",
              "        text-align: right;\n",
              "    }\n",
              "</style>\n",
              "<table border=\"1\" class=\"dataframe\">\n",
              "  <thead>\n",
              "    <tr style=\"text-align: right;\">\n",
              "      <th></th>\n",
              "      <th>순서</th>\n",
              "      <th>이름</th>\n",
              "      <th>나이</th>\n",
              "    </tr>\n",
              "  </thead>\n",
              "  <tbody>\n",
              "    <tr>\n",
              "      <th>0</th>\n",
              "      <td>1</td>\n",
              "      <td>park</td>\n",
              "      <td>30</td>\n",
              "    </tr>\n",
              "    <tr>\n",
              "      <th>2</th>\n",
              "      <td>2</td>\n",
              "      <td>choi</td>\n",
              "      <td>40</td>\n",
              "    </tr>\n",
              "    <tr>\n",
              "      <th>1</th>\n",
              "      <td>3</td>\n",
              "      <td>lee</td>\n",
              "      <td>20</td>\n",
              "    </tr>\n",
              "  </tbody>\n",
              "</table>\n",
              "</div>"
            ],
            "text/plain": [
              "   순서    이름  나이\n",
              "0   1  park  30\n",
              "2   2  choi  40\n",
              "1   3   lee  20"
            ]
          },
          "metadata": {
            "tags": []
          },
          "execution_count": 39
        }
      ]
    },
    {
      "cell_type": "code",
      "metadata": {
        "colab": {
          "base_uri": "https://localhost:8080/"
        },
        "id": "Q1jvdRz4dn0k",
        "outputId": "667423bd-00bf-4897-d749-1be826cfe354"
      },
      "source": [
        "# 함수\r\n",
        "\r\n",
        "def double(x):\r\n",
        "  return x*2\r\n",
        "double(7)"
      ],
      "execution_count": null,
      "outputs": [
        {
          "output_type": "execute_result",
          "data": {
            "text/plain": [
              "14"
            ]
          },
          "metadata": {
            "tags": []
          },
          "execution_count": 40
        }
      ]
    },
    {
      "cell_type": "code",
      "metadata": {
        "colab": {
          "base_uri": "https://localhost:8080/"
        },
        "id": "kpzldTkleb1c",
        "outputId": "3f3c4f83-b54e-489d-afae-a1ce1269139a"
      },
      "source": [
        "def double_triple(x):\r\n",
        "  return x*2, x*3\r\n",
        "\r\n",
        "x, y = double_triple(4)\r\n",
        "print(x, y)\r\n",
        "print(x)\r\n",
        "print(y)"
      ],
      "execution_count": null,
      "outputs": [
        {
          "output_type": "stream",
          "text": [
            "8 12\n",
            "8\n",
            "12\n"
          ],
          "name": "stdout"
        }
      ]
    },
    {
      "cell_type": "code",
      "metadata": {
        "colab": {
          "base_uri": "https://localhost:8080/"
        },
        "id": "FgCOXQmbqP7H",
        "outputId": "a41fb3f1-2a43-401a-8321-db0f570528ae"
      },
      "source": [
        "!sudo apt-get install -y fonts-nanum\r\n",
        "!sudo fc-cache -fv\r\n",
        "!rm ~/.cache/matplotlib -rf"
      ],
      "execution_count": null,
      "outputs": [
        {
          "output_type": "stream",
          "text": [
            "Reading package lists... Done\n",
            "Building dependency tree       \n",
            "Reading state information... Done\n",
            "fonts-nanum is already the newest version (20170925-1).\n",
            "0 upgraded, 0 newly installed, 0 to remove and 23 not upgraded.\n",
            "/usr/share/fonts: caching, new cache contents: 0 fonts, 1 dirs\n",
            "/usr/share/fonts/truetype: caching, new cache contents: 0 fonts, 3 dirs\n",
            "/usr/share/fonts/truetype/humor-sans: caching, new cache contents: 1 fonts, 0 dirs\n",
            "/usr/share/fonts/truetype/liberation: caching, new cache contents: 16 fonts, 0 dirs\n",
            "/usr/share/fonts/truetype/nanum: caching, new cache contents: 31 fonts, 0 dirs\n",
            "/usr/local/share/fonts: caching, new cache contents: 0 fonts, 0 dirs\n",
            "/root/.local/share/fonts: skipping, no such directory\n",
            "/root/.fonts: skipping, no such directory\n",
            "/var/cache/fontconfig: cleaning cache directory\n",
            "/root/.cache/fontconfig: not cleaning non-existent cache directory\n",
            "/root/.fontconfig: not cleaning non-existent cache directory\n",
            "fc-cache: succeeded\n"
          ],
          "name": "stdout"
        }
      ]
    },
    {
      "cell_type": "code",
      "metadata": {
        "id": "hP6VuZ8krSCr"
      },
      "source": [
        "import numpy as np\r\n",
        "import matplotlib.pyplot as plt\r\n",
        "%matplotlib inline\r\n",
        "\r\n",
        "plt.rc('font', family = 'NanumBarunGothic')"
      ],
      "execution_count": null,
      "outputs": []
    },
    {
      "cell_type": "code",
      "metadata": {
        "colab": {
          "base_uri": "https://localhost:8080/",
          "height": 297
        },
        "id": "tndXX6JLrkex",
        "outputId": "5ae6783a-7732-4ee9-ad72-d965a7cab8ce"
      },
      "source": [
        "import matplotlib\r\n",
        "matplotlib.rcParams['axes.unicode_minus'] = False\r\n",
        "\r\n",
        "n = 10\r\n",
        "y = np.random.randn(n)\r\n",
        "plt.plot(range(n), y)\r\n",
        "plt.xlabel('시간')\r\n",
        "plt.ylabel('랜덤 값')"
      ],
      "execution_count": null,
      "outputs": [
        {
          "output_type": "execute_result",
          "data": {
            "text/plain": [
              "Text(0, 0.5, '랜덤 값')"
            ]
          },
          "metadata": {
            "tags": []
          },
          "execution_count": 4
        },
        {
          "output_type": "display_data",
          "data": {
            "image/png": "[encoded data removed]",
            "text/plain": [
              "<Figure size 432x288 with 1 Axes>"
            ]
          },
          "metadata": {
            "tags": [],
            "needs_background": "light"
          }
        }
      ]
    },
    {
      "cell_type": "code",
      "metadata": {
        "id": "Caiwv-aPrtR-"
      },
      "source": [
        ""
      ],
      "execution_count": null,
      "outputs": []
    }
  ]
}