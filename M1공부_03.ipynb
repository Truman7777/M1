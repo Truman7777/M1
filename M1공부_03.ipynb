{
  "nbformat": 4,
  "nbformat_minor": 0,
  "metadata": {
    "colab": {
      "name": "M1공부_03.ipynb",
      "provenance": [],
      "collapsed_sections": [],
      "authorship_tag": "ABX9TyNLFuRAisuap1kxD4MslST/",
      "include_colab_link": true
    },
    "kernelspec": {
      "name": "python3",
      "display_name": "Python 3"
    }
  },
  "cells": [
    {
      "cell_type": "markdown",
      "metadata": {
        "id": "view-in-github",
        "colab_type": "text"
      },
      "source": [
        "<a href=\"https://colab.research.google.com/github/Truman7777/M1/blob/main/M1%EA%B3%B5%EB%B6%80_03.ipynb\" target=\"_parent\"><img src=\"https://colab.research.google.com/assets/colab-badge.svg\" alt=\"Open In Colab\"/></a>"
      ]
    },
    {
      "cell_type": "markdown",
      "metadata": {
        "id": "nMvNRlvyh9ZX"
      },
      "source": [
        "# NumPy"
      ]
    },
    {
      "cell_type": "code",
      "metadata": {
        "id": "_4Xg3ITBiIPn"
      },
      "source": [
        "import numpy as np"
      ],
      "execution_count": null,
      "outputs": []
    },
    {
      "cell_type": "code",
      "metadata": {
        "colab": {
          "base_uri": "https://localhost:8080/"
        },
        "id": "X2J1AgNmic4L",
        "outputId": "baf7618e-a335-483e-d9d3-256f074e5632"
      },
      "source": [
        "list = [1, 5, 8]\r\n",
        "print(list * 3)"
      ],
      "execution_count": null,
      "outputs": [
        {
          "output_type": "stream",
          "text": [
            "[1, 5, 8, 1, 5, 8, 1, 5, 8]\n"
          ],
          "name": "stdout"
        }
      ]
    },
    {
      "cell_type": "code",
      "metadata": {
        "colab": {
          "base_uri": "https://localhost:8080/"
        },
        "id": "FqKtyq8kik49",
        "outputId": "60638f37-d61d-4697-f0de-f9f2956854fe"
      },
      "source": [
        "arr = np.array(list)\r\n",
        "print(arr * 3)\r\n",
        "print(arr + 100)"
      ],
      "execution_count": null,
      "outputs": [
        {
          "output_type": "stream",
          "text": [
            "[ 3 15 24]\n",
            "[101 105 108]\n"
          ],
          "name": "stdout"
        }
      ]
    },
    {
      "cell_type": "code",
      "metadata": {
        "colab": {
          "base_uri": "https://localhost:8080/"
        },
        "id": "gvUgeI8Jiriv",
        "outputId": "7bc7b6bd-e089-4d5f-cd98-ab80737c2041"
      },
      "source": [
        "data = [[1, 2, 3], [4, 5, 6], [7, 8, 9]]\r\n",
        "print(data)\r\n",
        "print(type(data))"
      ],
      "execution_count": null,
      "outputs": [
        {
          "output_type": "stream",
          "text": [
            "[[1, 2, 3], [4, 5, 6], [7, 8, 9]]\n",
            "<class 'list'>\n"
          ],
          "name": "stdout"
        }
      ]
    },
    {
      "cell_type": "code",
      "metadata": {
        "colab": {
          "base_uri": "https://localhost:8080/"
        },
        "id": "dPVH8KmPjUW0",
        "outputId": "9ccf6172-d68a-47a4-ab3e-76e1db1f917f"
      },
      "source": [
        "arr2 = np.array(data) # 리스트를 ndarray로 변환\r\n",
        "print(arr2)\r\n",
        "print(type(arr2))"
      ],
      "execution_count": null,
      "outputs": [
        {
          "output_type": "stream",
          "text": [
            "[[1 2 3]\n",
            " [4 5 6]\n",
            " [7 8 9]]\n",
            "<class 'numpy.ndarray'>\n"
          ],
          "name": "stdout"
        }
      ]
    },
    {
      "cell_type": "code",
      "metadata": {
        "colab": {
          "base_uri": "https://localhost:8080/"
        },
        "id": "dugDytIejf0e",
        "outputId": "63bc2d54-8817-4c38-b4f7-490ea867dbe6"
      },
      "source": [
        "# 배열 인덱싱\r\n",
        "print(arr2[1, 2])\r\n",
        "print(arr2[1][2])"
      ],
      "execution_count": null,
      "outputs": [
        {
          "output_type": "stream",
          "text": [
            "6\n",
            "6\n"
          ],
          "name": "stdout"
        }
      ]
    },
    {
      "cell_type": "code",
      "metadata": {
        "colab": {
          "base_uri": "https://localhost:8080/"
        },
        "id": "DcG6pZWJj4Xw",
        "outputId": "fdac6ea2-9f90-4dea-fd49-391b3f0c542f"
      },
      "source": [
        "print(arr2[0])\r\n",
        "print(arr2[1])\r\n",
        "print(arr2[2])"
      ],
      "execution_count": null,
      "outputs": [
        {
          "output_type": "stream",
          "text": [
            "[1 2 3]\n",
            "[4 5 6]\n",
            "[7 8 9]\n"
          ],
          "name": "stdout"
        }
      ]
    },
    {
      "cell_type": "code",
      "metadata": {
        "colab": {
          "base_uri": "https://localhost:8080/"
        },
        "id": "Gh51tJkAkCwt",
        "outputId": "5900655e-88ac-4d46-8339-b3616c18674a"
      },
      "source": [
        "#배열 슬라이싱\r\n",
        "print(arr2[:2, 1:])"
      ],
      "execution_count": null,
      "outputs": [
        {
          "output_type": "stream",
          "text": [
            "[[2 3]\n",
            " [5 6]]\n"
          ],
          "name": "stdout"
        }
      ]
    },
    {
      "cell_type": "code",
      "metadata": {
        "colab": {
          "base_uri": "https://localhost:8080/"
        },
        "id": "PgCvlqFQkTnJ",
        "outputId": "8a481565-97a2-4810-ceb9-d2e108c24ae9"
      },
      "source": [
        "# arange\r\n",
        "data = np.arange(12).reshape(4, 3) # arange -> range와 같지만 arry형태로 숫자 만듦\r\n",
        "data # reshape -> 배열의 차원을 생성, 변경할 때 사용 "
      ],
      "execution_count": null,
      "outputs": [
        {
          "output_type": "execute_result",
          "data": {
            "text/plain": [
              "array([[ 0,  1,  2],\n",
              "       [ 3,  4,  5],\n",
              "       [ 6,  7,  8],\n",
              "       [ 9, 10, 11]])"
            ]
          },
          "metadata": {
            "tags": []
          },
          "execution_count": 9
        }
      ]
    },
    {
      "cell_type": "code",
      "metadata": {
        "colab": {
          "base_uri": "https://localhost:8080/"
        },
        "id": "wbs78TYBlNCe",
        "outputId": "3dc55811-f107-4210-9837-123dc95f7fb8"
      },
      "source": [
        "data[data<6] = 0 # data<6 결과 True or False로 구성된 2차원 배열 얻음\r\n",
        "data # 결과적으로 True 부분만 0으로 대체된 새로운 배열 얻음"
      ],
      "execution_count": null,
      "outputs": [
        {
          "output_type": "execute_result",
          "data": {
            "text/plain": [
              "array([[ 0,  0,  0],\n",
              "       [ 0,  0,  0],\n",
              "       [ 6,  7,  8],\n",
              "       [ 9, 10, 11]])"
            ]
          },
          "metadata": {
            "tags": []
          },
          "execution_count": 10
        }
      ]
    },
    {
      "cell_type": "code",
      "metadata": {
        "colab": {
          "base_uri": "https://localhost:8080/"
        },
        "id": "71NKySdUl0mp",
        "outputId": "15e3746c-e500-4852-9c36-c3013591a85c"
      },
      "source": [
        "data<6"
      ],
      "execution_count": null,
      "outputs": [
        {
          "output_type": "execute_result",
          "data": {
            "text/plain": [
              "array([[ True,  True,  True],\n",
              "       [ True,  True,  True],\n",
              "       [False, False, False],\n",
              "       [False, False, False]])"
            ]
          },
          "metadata": {
            "tags": []
          },
          "execution_count": 11
        }
      ]
    },
    {
      "cell_type": "code",
      "metadata": {
        "colab": {
          "base_uri": "https://localhost:8080/"
        },
        "id": "-Vlotl_ql2_s",
        "outputId": "7acc4c7f-c0ce-4561-b805-180663dd206b"
      },
      "source": [
        "data.mean() # mean() -> 평균을 구할 때 사용"
      ],
      "execution_count": null,
      "outputs": [
        {
          "output_type": "execute_result",
          "data": {
            "text/plain": [
              "4.25"
            ]
          },
          "metadata": {
            "tags": []
          },
          "execution_count": 12
        }
      ]
    },
    {
      "cell_type": "code",
      "metadata": {
        "colab": {
          "base_uri": "https://localhost:8080/"
        },
        "id": "1H_5UILNmHXN",
        "outputId": "0e2f2cee-d3ab-4978-c585-4063e639fc17"
      },
      "source": [
        "data.mean(axis=0) # axis=0 -> 각 행의 같은 위치 항목들끼리의 계산"
      ],
      "execution_count": null,
      "outputs": [
        {
          "output_type": "execute_result",
          "data": {
            "text/plain": [
              "array([3.75, 4.25, 4.75])"
            ]
          },
          "metadata": {
            "tags": []
          },
          "execution_count": 13
        }
      ]
    },
    {
      "cell_type": "code",
      "metadata": {
        "colab": {
          "base_uri": "https://localhost:8080/"
        },
        "id": "uAdK0XE8mP5s",
        "outputId": "976410b4-1d8e-4f1b-da3a-2d25fe90ff79"
      },
      "source": [
        "data.mean(axis=1) # axis=1 -> 각 열의 같은 위치 항목들끼리의 계산"
      ],
      "execution_count": null,
      "outputs": [
        {
          "output_type": "execute_result",
          "data": {
            "text/plain": [
              "array([ 0.,  0.,  7., 10.])"
            ]
          },
          "metadata": {
            "tags": []
          },
          "execution_count": 14
        }
      ]
    },
    {
      "cell_type": "code",
      "metadata": {
        "id": "SL2vtpI0mYmI"
      },
      "source": [
        ""
      ],
      "execution_count": null,
      "outputs": []
    }
  ]
}