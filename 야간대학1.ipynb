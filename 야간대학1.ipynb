{
  "nbformat": 4,
  "nbformat_minor": 0,
  "metadata": {
    "colab": {
      "name": "야간대학1.ipynb",
      "provenance": [],
      "collapsed_sections": [],
      "authorship_tag": "ABX9TyMA4VztwIE4in9vzTj9LhTY",
      "include_colab_link": true
    },
    "kernelspec": {
      "name": "python3",
      "display_name": "Python 3"
    },
    "language_info": {
      "name": "python"
    }
  },
  "cells": [
    {
      "cell_type": "markdown",
      "metadata": {
        "id": "view-in-github",
        "colab_type": "text"
      },
      "source": [
        "<a href=\"https://colab.research.google.com/github/Truman7777/M1/blob/main/%EC%95%BC%EA%B0%84%EB%8C%80%ED%95%991.ipynb\" target=\"_parent\"><img src=\"https://colab.research.google.com/assets/colab-badge.svg\" alt=\"Open In Colab\"/></a>"
      ]
    },
    {
      "cell_type": "code",
      "metadata": {
        "id": "Cwriv1dYj1G9"
      },
      "source": [
        "import numpy as np\n",
        "import matplotlib.pyplot as plt"
      ],
      "execution_count": 1,
      "outputs": []
    },
    {
      "cell_type": "code",
      "metadata": {
        "id": "BFwZDTnZ98l1"
      },
      "source": [
        "X = [[5.1, 3.5, 1.4], [4.9, 3.0, 1.4],\n",
        "     [4.7, 3.2, 1.3], [4.6, 3.1, 1.5], [5.0, 3.6, 1.4]]\n",
        "\n",
        "y = [0.2, 0.4, 0.3, 0.2, 0.3]"
      ],
      "execution_count": 2,
      "outputs": []
    },
    {
      "cell_type": "code",
      "metadata": {
        "colab": {
          "base_uri": "https://localhost:8080/"
        },
        "id": "uXzT6RZz_UJa",
        "outputId": "fb103c64-68eb-4008-f6b8-79390885a0a3"
      },
      "source": [
        "X"
      ],
      "execution_count": 3,
      "outputs": [
        {
          "output_type": "execute_result",
          "data": {
            "text/plain": [
              "[[5.1, 3.5, 1.4],\n",
              " [4.9, 3.0, 1.4],\n",
              " [4.7, 3.2, 1.3],\n",
              " [4.6, 3.1, 1.5],\n",
              " [5.0, 3.6, 1.4]]"
            ]
          },
          "metadata": {
            "tags": []
          },
          "execution_count": 3
        }
      ]
    },
    {
      "cell_type": "code",
      "metadata": {
        "colab": {
          "base_uri": "https://localhost:8080/"
        },
        "id": "uBChm1Y7_Ydc",
        "outputId": "223d7757-bf68-437c-c88b-9e3c103d5afe"
      },
      "source": [
        "y"
      ],
      "execution_count": 4,
      "outputs": [
        {
          "output_type": "execute_result",
          "data": {
            "text/plain": [
              "[0.2, 0.4, 0.3, 0.2, 0.3]"
            ]
          },
          "metadata": {
            "tags": []
          },
          "execution_count": 4
        }
      ]
    },
    {
      "cell_type": "code",
      "metadata": {
        "colab": {
          "base_uri": "https://localhost:8080/"
        },
        "id": "VuDzABug_ZGo",
        "outputId": "f2f3f61b-677c-4799-d215-2af7ce1a4597"
      },
      "source": [
        "XX = np.array(X)\n",
        "XX"
      ],
      "execution_count": 5,
      "outputs": [
        {
          "output_type": "execute_result",
          "data": {
            "text/plain": [
              "array([[5.1, 3.5, 1.4],\n",
              "       [4.9, 3. , 1.4],\n",
              "       [4.7, 3.2, 1.3],\n",
              "       [4.6, 3.1, 1.5],\n",
              "       [5. , 3.6, 1.4]])"
            ]
          },
          "metadata": {
            "tags": []
          },
          "execution_count": 5
        }
      ]
    },
    {
      "cell_type": "code",
      "metadata": {
        "colab": {
          "base_uri": "https://localhost:8080/"
        },
        "id": "5tICfeZA_lUo",
        "outputId": "a534d7d2-f645-4860-ad18-cc0fbd61b9b7"
      },
      "source": [
        "yy = np.array(y)\n",
        "yy"
      ],
      "execution_count": 6,
      "outputs": [
        {
          "output_type": "execute_result",
          "data": {
            "text/plain": [
              "array([0.2, 0.4, 0.3, 0.2, 0.3])"
            ]
          },
          "metadata": {
            "tags": []
          },
          "execution_count": 6
        }
      ]
    },
    {
      "cell_type": "code",
      "metadata": {
        "id": "GsubFIBE_o0R"
      },
      "source": [
        "w1 = 1.0\n",
        "w2 = 1.0\n",
        "w3 = 1.0\n",
        "b = 1.0\n",
        "# 가중치 값 일단 넣어줌"
      ],
      "execution_count": 7,
      "outputs": []
    },
    {
      "cell_type": "code",
      "metadata": {
        "id": "rtBrzzHgAWNl"
      },
      "source": [
        "W = np.array([1.0, 1.0, 1.0])\n",
        "b = 1.0"
      ],
      "execution_count": 8,
      "outputs": []
    },
    {
      "cell_type": "code",
      "metadata": {
        "colab": {
          "base_uri": "https://localhost:8080/"
        },
        "id": "c-JcFJP1AwnI",
        "outputId": "6ccc309e-0545-41f9-b765-4a1df45eb6f6"
      },
      "source": [
        "result_y = X@W + b\n",
        "result_y"
      ],
      "execution_count": 15,
      "outputs": [
        {
          "output_type": "execute_result",
          "data": {
            "text/plain": [
              "array([11. , 10.3, 10.2, 10.2, 11. ])"
            ]
          },
          "metadata": {
            "tags": []
          },
          "execution_count": 15
        }
      ]
    },
    {
      "cell_type": "code",
      "metadata": {
        "colab": {
          "base_uri": "https://localhost:8080/"
        },
        "id": "3Ev83opqBfWa",
        "outputId": "ae328bfb-b4c6-439c-b603-c037ee53ab37"
      },
      "source": [
        "(XX * W).sum(axis= 1) + b"
      ],
      "execution_count": 17,
      "outputs": [
        {
          "output_type": "execute_result",
          "data": {
            "text/plain": [
              "array([11. , 10.3, 10.2, 10.2, 11. ])"
            ]
          },
          "metadata": {
            "tags": []
          },
          "execution_count": 17
        }
      ]
    },
    {
      "cell_type": "code",
      "metadata": {
        "colab": {
          "base_uri": "https://localhost:8080/"
        },
        "id": "04el5z_uBwAI",
        "outputId": "a33f0cf7-9cd9-4f42-a7eb-8b27b3566e5a"
      },
      "source": [
        "C = (result_y - yy) ** 2\n",
        "C"
      ],
      "execution_count": 18,
      "outputs": [
        {
          "output_type": "execute_result",
          "data": {
            "text/plain": [
              "array([116.64,  98.01,  98.01, 100.  , 114.49])"
            ]
          },
          "metadata": {
            "tags": []
          },
          "execution_count": 18
        }
      ]
    },
    {
      "cell_type": "code",
      "metadata": {
        "colab": {
          "base_uri": "https://localhost:8080/"
        },
        "id": "P2cdRx7kELIM",
        "outputId": "c2c98d31-8f9d-48e2-9057-f833f91264ef"
      },
      "source": [
        "MSE = ((result_y - y)**2).mean()\n",
        "MSE"
      ],
      "execution_count": 24,
      "outputs": [
        {
          "output_type": "execute_result",
          "data": {
            "text/plain": [
              "105.42999999999999"
            ]
          },
          "metadata": {
            "tags": []
          },
          "execution_count": 24
        }
      ]
    },
    {
      "cell_type": "code",
      "metadata": {
        "id": "x7gNp_YoE2Lm"
      },
      "source": [
        ""
      ],
      "execution_count": null,
      "outputs": []
    }
  ]
}